{
 "cells": [
  {
   "cell_type": "markdown",
   "id": "97537769-f13f-449f-b4a2-5cb872901ea3",
   "metadata": {},
   "source": [
    "## Natural frequencies and mode shapes of a beam"
   ]
  },
  {
   "cell_type": "markdown",
   "id": "ef8bef29-b242-4dd2-afef-1c3428091b72",
   "metadata": {},
   "source": [
    "### We will determine the natural frequencies and mode shapes of a beam with classical Boundary conditions The derivation is well-known and given in most standard texts on vibration e.g. Thomson's book\n",
    "\n",
    "However, the standard derivation is difficult to implement in a pen-and-paper calculation for most boundary conditions. Thus, we propose to use both symbolic and numerical computation for this derivation"
   ]
  },
  {
   "cell_type": "markdown",
   "id": "a42a1d9f-9612-4382-b2c6-be78bfc9cf67",
   "metadata": {},
   "source": [
    "## Importing the relevant modules"
   ]
  },
  {
   "cell_type": "code",
   "execution_count": 1,
   "id": "9140a90f-e28e-44fd-af00-b78c90d32cbc",
   "metadata": {},
   "outputs": [],
   "source": [
    "import sympy \n",
    "# sympy is used for symbolic computation\n",
    "import numpy as np \n",
    "# numpy is used for numerical calculation\n",
    "# we are setting an alias or a nickname for numpy as np \n",
    "import matplotlib.pyplot as plt \n",
    "# this is the package for plotting \n",
    "from scipy import optimize, linalg\n",
    "# from the scipy package we are importing optimize and linear algebra\n",
    "from sympy import I\n",
    "# import the iota symbol from the sympy package\n",
    "from sympy import symbols, Eq, solve"
   ]
  },
  {
   "cell_type": "markdown",
   "id": "e5f09564-cb44-42d0-98b8-ac8f3e82edda",
   "metadata": {},
   "source": [
    "For symbolic computation we need to declare the symbolic variables"
   ]
  },
  {
   "cell_type": "code",
   "execution_count": 2,
   "id": "6fe8c3a5-263a-4023-8b0e-562e1589bbe2",
   "metadata": {},
   "outputs": [],
   "source": [
    "x = sympy.Symbol(\"x\")\n",
    "k = sympy.Symbol(\"k\", real=True)\n",
    "A, B, C, D = sympy.symbols(\"A, B, C, D\")\n",
    "K_s = sympy.Symbol(\"K_s\")\n",
    "t = sympy.Symbol(\"t\")\n",
    "EI = sympy.Symbol(\"EI\")\n",
    "omega = sympy.Symbol(\"omega\")"
   ]
  },
  {
   "cell_type": "markdown",
   "id": "21fda786-39da-4ab8-9e1a-23a6b8a7c847",
   "metadata": {},
   "source": [
    "Note, $k=k_bL$ and $x = x/L$"
   ]
  },
  {
   "cell_type": "code",
   "execution_count": 3,
   "id": "9306ea43-80ce-4736-b4d4-d399d2212e0b",
   "metadata": {},
   "outputs": [
    {
     "data": {
      "text/latex": [
       "$\\displaystyle A K_{s} e^{- i k x} + B K_{s} e^{i k x} + C K_{s} e^{k x} + D K_{s} e^{- k x}$"
      ],
      "text/plain": [
       "A*K_s*exp(-I*k*x) + B*K_s*exp(I*k*x) + C*K_s*exp(k*x) + D*K_s*exp(-k*x)"
      ]
     },
     "execution_count": 3,
     "metadata": {},
     "output_type": "execute_result"
    }
   ],
   "source": [
    "v = A*sympy.exp(-I*k*x)+B*sympy.exp(I*k*x)+C*sympy.exp(k*x)+D*sympy.exp(-k*x)\n",
    "v_s=A*sympy.exp(-I*k*x)*K_s+B*sympy.exp(I*k*x)*K_s+C*sympy.exp(k*x)*K_s+D*sympy.exp(-k*x)*K_s\n",
    "v_s"
   ]
  },
  {
   "cell_type": "code",
   "execution_count": 4,
   "id": "ad4de138-8cec-445d-b0ec-157a53e2446e",
   "metadata": {},
   "outputs": [],
   "source": [
    "vd = sympy.diff(v, x)\n",
    "vdd = sympy.diff(vd, x)\n",
    "vddd = sympy.diff(vdd, x)"
   ]
  },
  {
   "cell_type": "markdown",
   "id": "d31a6604-2ed9-4b82-8be0-13c04e6e3d28",
   "metadata": {},
   "source": [
    "## Free-Free Boundary condition"
   ]
  },
  {
   "cell_type": "markdown",
   "id": "85a64b9b-6b7c-46ef-8b9b-d72cfa5739fb",
   "metadata": {},
   "source": [
    "the bounadry condtions here are $ v''(0)=v'''(0)=0 $ and $ v''(1)=v'''(1)=0 $ "
   ]
  },
  {
   "cell_type": "code",
   "execution_count": 5,
   "id": "986dfed6-b2c4-40e2-8e14-407b3773fdb8",
   "metadata": {},
   "outputs": [
    {
     "data": {
      "text/latex": [
       "$\\displaystyle - A k^{2} e^{- i k} - 1.0582 A e^{- i k} - B k^{2} e^{i k} - 1.0582 B e^{i k} + C k^{2} e^{k} - 1.0582 C e^{k} + D k^{2} e^{- k} - 1.0582 D e^{- k}$"
      ],
      "text/plain": [
       "-A*k**2*exp(-I*k) - 1.0582*A*exp(-I*k) - B*k**2*exp(I*k) - 1.0582*B*exp(I*k) + C*k**2*exp(k) - 1.0582*C*exp(k) + D*k**2*exp(-k) - 1.0582*D*exp(-k)"
      ]
     },
     "execution_count": 5,
     "metadata": {},
     "output_type": "execute_result"
    }
   ],
   "source": [
    "eq1 = v.subs(x, 0)\n",
    "eq2 = vd.subs(x, 0)\n",
    "eq3 = vdd.subs(x, 1)-(v_s).subs(x,1)\n",
    "eq33=eq3.subs(K_s,(1.0582))\n",
    "eq4 = vddd.subs(x, 1)\n",
    "eq33"
   ]
  },
  {
   "cell_type": "markdown",
   "id": "3f890a98-b313-4375-ab65-f4d24682694d",
   "metadata": {},
   "source": [
    "\n",
    "We wish to cast these equations in a matrix format such that we can use the computation linear algebra packages to determine the quantitites of interest"
   ]
  },
  {
   "cell_type": "code",
   "execution_count": 6,
   "id": "9f2bb2a6-76d5-4d0b-9f12-89de2a0e1bc8",
   "metadata": {},
   "outputs": [
    {
     "data": {
      "text/latex": [
       "$\\displaystyle \\left[\\begin{matrix}A + B + C + D & - i A k + i B k + C k - D k & - A k^{2} e^{- i k} - 1.0582 A e^{- i k} - B k^{2} e^{i k} - 1.0582 B e^{i k} + C k^{2} e^{k} - 1.0582 C e^{k} + D k^{2} e^{- k} - 1.0582 D e^{- k} & i A k^{3} e^{- i k} - i B k^{3} e^{i k} + C k^{3} e^{k} - D k^{3} e^{- k}\\end{matrix}\\right]$"
      ],
      "text/plain": [
       "[A + B + C + D, -I*A*k + I*B*k + C*k - D*k, -A*k**2*exp(-I*k) - 1.0582*A*exp(-I*k) - B*k**2*exp(I*k) - 1.0582*B*exp(I*k) + C*k**2*exp(k) - 1.0582*C*exp(k) + D*k**2*exp(-k) - 1.0582*D*exp(-k), I*A*k**3*exp(-I*k) - I*B*k**3*exp(I*k) + C*k**3*exp(k) - D*k**3*exp(-k)]"
      ]
     },
     "execution_count": 6,
     "metadata": {},
     "output_type": "execute_result"
    }
   ],
   "source": [
    "# initialize the matrix to zeros \n",
    "M = sympy.zeros(4)\n",
    "S = sympy.Array([A, B, C, D])\n",
    "eq = sympy.Array([eq1, eq2,eq33, eq4])\n",
    "eq\n"
   ]
  },
  {
   "cell_type": "code",
   "execution_count": 7,
   "id": "acca620c-3e8b-4e6b-ba91-beaf2e956dac",
   "metadata": {},
   "outputs": [
    {
     "data": {
      "text/latex": [
       "$\\displaystyle \\left[\\begin{matrix}1 & 1 & 1 & 1\\\\- i k & i k & k & - k\\\\- k^{2} e^{- i k} - 1.0582 e^{- i k} & - k^{2} e^{i k} - 1.0582 e^{i k} & k^{2} e^{k} - 1.0582 e^{k} & k^{2} e^{- k} - 1.0582 e^{- k}\\\\i k^{3} e^{- i k} & - i k^{3} e^{i k} & k^{3} e^{k} & - k^{3} e^{- k}\\end{matrix}\\right]$"
      ],
      "text/plain": [
       "Matrix([\n",
       "[                                 1,                                1,                           1,                             1],\n",
       "[                              -I*k,                              I*k,                           k,                            -k],\n",
       "[-k**2*exp(-I*k) - 1.0582*exp(-I*k), -k**2*exp(I*k) - 1.0582*exp(I*k), k**2*exp(k) - 1.0582*exp(k), k**2*exp(-k) - 1.0582*exp(-k)],\n",
       "[                  I*k**3*exp(-I*k),                 -I*k**3*exp(I*k),                 k**3*exp(k),                 -k**3*exp(-k)]])"
      ]
     },
     "execution_count": 7,
     "metadata": {},
     "output_type": "execute_result"
    }
   ],
   "source": [
    "for count in range(4):\n",
    "    for count2 in range(4):\n",
    "        M[count, count2] = eq[count].coeff(S[count2])\n",
    "        \n",
    "M"
   ]
  },
  {
   "cell_type": "code",
   "execution_count": 8,
   "id": "d6c8f7e2-7e29-4479-941b-577d6922e365",
   "metadata": {},
   "outputs": [],
   "source": [
    "detM=sympy.simplify(M.det())"
   ]
  },
  {
   "cell_type": "markdown",
   "id": "1798dc29-8011-4b2a-aea4-a45c1d159c77",
   "metadata": {},
   "source": [
    "The first objective is to determine the natural frequencies. We know that the equation of interest for the present problem is a homogeneous matrix equation. Non-trivial solution of the homogeneous matrix equation is possible only iff the matrix is singular. In other words, we need to find a suitable k such that the matrix has a determinant value = 0\n",
    "\n",
    "We will plot this expression and determine the zero crossing of this expression"
   ]
  },
  {
   "cell_type": "code",
   "execution_count": 9,
   "id": "c4d29916-08c0-4f78-8e03-5f2c7792f11f",
   "metadata": {},
   "outputs": [],
   "source": [
    "detMnum = sympy.lambdify(k, detM)"
   ]
  },
  {
   "cell_type": "code",
   "execution_count": 10,
   "id": "9aa653b7-b6b8-4c93-8485-4c77f13b45f9",
   "metadata": {},
   "outputs": [
    {
     "data": {
      "image/png": "[encoded data removed]",
      "text/plain": [
       "<Figure size 640x480 with 1 Axes>"
      ]
     },
     "metadata": {},
     "output_type": "display_data"
    }
   ],
   "source": [
    "kv = np.linspace(7.8,8,10000)\n",
    "detMv = detMnum(kv)\n",
    "plt.plot(kv, abs(detMv))\n",
    "plt.grid()\n",
    "plt.xlabel('Wavenumber (k)')\n",
    "plt.show()"
   ]
  },
  {
   "cell_type": "code",
   "execution_count": 11,
   "id": "4122cb64-60f5-4cc8-ae2c-04443213817e",
   "metadata": {},
   "outputs": [],
   "source": [
    "detMnum2 = lambda k: abs(detMnum(k)) \n",
    "kroot = optimize.newton(detMnum2, 7.825)"
   ]
  },
  {
   "cell_type": "code",
   "execution_count": 12,
   "id": "9cf0538d-37ff-4189-ae6f-5a1968de7169",
   "metadata": {},
   "outputs": [
    {
     "data": {
      "text/plain": [
       "7.837545580483265"
      ]
     },
     "execution_count": 12,
     "metadata": {},
     "output_type": "execute_result"
    }
   ],
   "source": [
    "kroot"
   ]
  },
  {
   "cell_type": "code",
   "execution_count": 13,
   "id": "c0c166ef-ded0-41dd-aa95-4fd833b6c587",
   "metadata": {},
   "outputs": [],
   "source": [
    "M2 = M.subs(k, kroot)"
   ]
  },
  {
   "cell_type": "code",
   "execution_count": 14,
   "id": "91844dbe-aead-453b-9201-9ea3de5835a8",
   "metadata": {},
   "outputs": [],
   "source": [
    "Mnum = np.array(M2, dtype=complex)\n",
    "evals, evecs = linalg.eig(Mnum)"
   ]
  },
  {
   "cell_type": "markdown",
   "id": "dd933477-7c29-4a68-946a-7e739520524b",
   "metadata": {},
   "source": [
    "The eigenvalues and the eigenvectors have been computed at this stage Our interest here is to extact the eigen vector associated with the 0 eigenvalue"
   ]
  },
  {
   "cell_type": "code",
   "execution_count": 15,
   "id": "9ecb2156-0bdf-4492-8984-cc77dd45fc00",
   "metadata": {},
   "outputs": [
    {
     "data": {
      "text/plain": [
       "array([1.52973692e+05, 7.07716264e+01, 1.83097496e-11, 7.75095025e+01])"
      ]
     },
     "execution_count": 15,
     "metadata": {},
     "output_type": "execute_result"
    }
   ],
   "source": [
    "abs(evals)"
   ]
  },
  {
   "cell_type": "markdown",
   "id": "e9082b5f-55c9-459f-84d6-219695308123",
   "metadata": {},
   "source": [
    "The last 3rd eigen value is nearly zero. We need to get the associated eigenvector"
   ]
  },
  {
   "cell_type": "code",
   "execution_count": 16,
   "id": "38b34eb9-d77d-4582-9ca0-47c0e5deb76b",
   "metadata": {},
   "outputs": [],
   "source": [
    "An, Bn, Cn, Dn = evecs[:, 2]"
   ]
  },
  {
   "cell_type": "code",
   "execution_count": 17,
   "id": "01aef109-2cd3-43a0-8017-5bbe8c9c8598",
   "metadata": {},
   "outputs": [
    {
     "data": {
      "text/latex": [
       "$\\displaystyle \\left(0.000283818949349288 - 2.40660695039786 \\cdot 10^{-16} i\\right) e^{7.83754558048327 x} + \\left(-0.353695271588097 - 0.35341145263822 i\\right) e^{7.83754558048327 i x} + \\left(-0.353695271587508 + 0.353411452638784 i\\right) e^{- 7.83754558048327 i x} + 0.707106724227363 e^{- 7.83754558048327 x}$"
      ],
      "text/plain": [
       "(0.000283818949349288 - 2.40660695039786e-16*I)*exp(7.83754558048327*x) + (-0.353695271588097 - 0.35341145263822*I)*exp(7.83754558048327*I*x) + (-0.353695271587508 + 0.353411452638784*I)*exp(-7.83754558048327*I*x) + 0.707106724227363*exp(-7.83754558048327*x)"
      ]
     },
     "execution_count": 17,
     "metadata": {},
     "output_type": "execute_result"
    }
   ],
   "source": [
    "vn = v.subs([(A, An), (B, Bn), (C, Cn), (D, Dn), (k, kroot)])\n",
    "vn"
   ]
  },
  {
   "cell_type": "code",
   "execution_count": 18,
   "id": "7a43da76-fa29-4c8d-a347-ed4530e992b9",
   "metadata": {},
   "outputs": [],
   "source": [
    "vn = v.subs([(A, An), (B, Bn), (C, Cn), (D, Dn), (k, kroot)])\n"
   ]
  },
  {
   "cell_type": "code",
   "execution_count": 19,
   "id": "66807889-f66b-41dd-b44f-1bd2f2d08d76",
   "metadata": {},
   "outputs": [
    {
     "data": {
      "image/png": "[encoded data removed]",
      "text/plain": [
       "<Figure size 640x480 with 1 Axes>"
      ]
     },
     "metadata": {},
     "output_type": "display_data"
    }
   ],
   "source": [
    "\n",
    "vnum = sympy.lambdify(x, vn)\n",
    "xvec = np.linspace(0, 1.0, 10000)\n",
    "vvec = vnum(xvec)\n",
    "plt.show()\n",
    "plt.plot(xvec, -np.imag(vvec), label='t=T/4')\n",
    "plt.plot(xvec, np.real(vvec), 'r--', label='t=0, T/2')\n",
    "plt.plot(xvec, np.imag(vvec), 'k', label='t=3*T/4')\n",
    "\n",
    "plt.grid()\n",
    "plt.xlabel('X')\n",
    "plt.legend()\n",
    "plt.show()"
   ]
  },
  {
   "cell_type": "code",
   "execution_count": 20,
   "id": "933ae68d-8912-41ad-a9af-36a787264945",
   "metadata": {},
   "outputs": [
    {
     "data": {
      "text/latex": [
       "$\\displaystyle 10 \\left(7.83754558048327 \\left(0.136641187196045 - 1.15863169661699 \\cdot 10^{-13} i\\right) e^{7.83754558048327 x} - 61.4271207261528 \\left(21.7264821481114 + 21.7090479672129 i\\right) e^{7.83754558048327 i x} - 61.4271207261528 \\left(21.7264821480752 - 21.7090479672476 i\\right) e^{- 7.83754558048327 i x} + 2668.11955220242 e^{- 7.83754558048327 x}\\right) e^{\\omega t} = 0$"
      ],
      "text/plain": [
       "Eq(10*(7.83754558048327*(0.136641187196045 - 1.15863169661699e-13*I)*exp(7.83754558048327*x) - 61.4271207261528*(21.7264821481114 + 21.7090479672129*I)*exp(7.83754558048327*I*x) - 61.4271207261528*(21.7264821480752 - 21.7090479672476*I)*exp(-7.83754558048327*I*x) + 2668.11955220242*exp(-7.83754558048327*x))*exp(omega*t), 0)"
      ]
     },
     "execution_count": 20,
     "metadata": {},
     "output_type": "execute_result"
    }
   ],
   "source": [
    "\n",
    "V_x_t=vn*sympy.exp(omega*t)\n",
    "V_x_t_d = sympy.diff(V_x_t, x)\n",
    "V_x_t_dd = sympy.diff(V_x_t_d, x)\n",
    "V_x_t_ddd = sympy.diff(V_x_t_dd, x)\n",
    "V_x_t_dddd = sympy.diff(V_x_t_ddd, x)\n",
    "V_x_t_dt = sympy.diff(V_x_t,t)\n",
    "V_x_t_dtt = sympy.diff(V_x_t_dt,t)\n",
    "V_x_t_dtt\n",
    "Eqn_1=Eq(EI*V_x_t_dddd);\n",
    "Eqn_11=Eqn_1.subs(EI,10)\n",
    "Eqn_11"
   ]
  },
  {
   "cell_type": "code",
   "execution_count": 21,
   "id": "7e056fd5-10a5-475c-89a5-587335b196e0",
   "metadata": {},
   "outputs": [
    {
     "data": {
      "text/latex": [
       "$\\displaystyle \\omega^{2} \\left(\\left(0.000283818949349288 - 2.40660695039786 \\cdot 10^{-16} i\\right) e^{7.83754558048327 x} + \\left(-0.353695271588097 - 0.35341145263822 i\\right) e^{7.83754558048327 i x} + \\left(-0.353695271587508 + 0.353411452638784 i\\right) e^{- 7.83754558048327 i x} + 0.707106724227363 e^{- 7.83754558048327 x}\\right) e^{\\omega t} = 0$"
      ],
      "text/plain": [
       "Eq(omega**2*((0.000283818949349288 - 2.40660695039786e-16*I)*exp(7.83754558048327*x) + (-0.353695271588097 - 0.35341145263822*I)*exp(7.83754558048327*I*x) + (-0.353695271587508 + 0.353411452638784*I)*exp(-7.83754558048327*I*x) + 0.707106724227363*exp(-7.83754558048327*x))*exp(omega*t), 0)"
      ]
     },
     "execution_count": 21,
     "metadata": {},
     "output_type": "execute_result"
    }
   ],
   "source": [
    "Eqn_2=Eq(V_x_t_dtt);\n",
    "Eqn_2\n"
   ]
  },
  {
   "cell_type": "code",
   "execution_count": 22,
   "id": "cee6b6b7-8fe7-4e17-ae8d-823aca4fc7a6",
   "metadata": {},
   "outputs": [
    {
     "data": {
      "text/plain": [
       "[]"
      ]
     },
     "execution_count": 22,
     "metadata": {},
     "output_type": "execute_result"
    }
   ],
   "source": [
    "sol=solve((Eqn_1,Eqn_2),(omega))\n",
    "\n",
    "sol"
   ]
  },
  {
   "cell_type": "code",
   "execution_count": null,
   "id": "04e743cd-bd14-40b6-8758-10008e053db7",
   "metadata": {},
   "outputs": [],
   "source": []
  }
 ],
 "metadata": {
  "kernelspec": {
   "display_name": "Python 3",
   "language": "python",
   "name": "python3"
  },
  "language_info": {
   "codemirror_mode": {
    "name": "ipython",
    "version": 3
   },
   "file_extension": ".py",
   "mimetype": "text/x-python",
   "name": "python",
   "nbconvert_exporter": "python",
   "pygments_lexer": "ipython3",
   "version": "3.7.8"
  }
 },
 "nbformat": 4,
 "nbformat_minor": 5
}
